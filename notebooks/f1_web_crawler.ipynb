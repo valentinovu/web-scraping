{
 "cells": [
  {
   "cell_type": "code",
   "execution_count": null,
   "metadata": {},
   "outputs": [],
   "source": [
    "import requests\n",
    "from bs4 import BeautifulSoup"
   ]
  },
  {
   "cell_type": "code",
   "execution_count": null,
   "metadata": {},
   "outputs": [],
   "source": [
    "url = 'https://www.formula1.com/en/results.html/2023/drivers.html'\n",
    "response = requests.get(url)"
   ]
  },
  {
   "cell_type": "code",
   "execution_count": null,
   "metadata": {},
   "outputs": [],
   "source": [
    "if response.status_code == 200:\n",
    "    soup = BeautifulSoup(response.content, 'html.parser')\n",
    "    table = soup.find('table', class_='resultsarchive-table')\n",
    "    # Extract the rows of the table\n",
    "    rows = table.find_all('tr')\n",
    "    \n",
    "    for row_id, row in enumerate(rows):\n",
    "        columns = row.find_all('td')\n",
    "        # print(f\"row={row_id}: {columns}\")\n",
    "        if columns:\n",
    "            position = columns[1].text.strip()\n",
    "            driver_name = columns[2].text.strip().split('\\n')\n",
    "            driver_name = ' '.join(driver_name[:-1])\n",
    "            \n",
    "            nationality = columns[3].text.strip()\n",
    "            car = columns[4].text.strip()\n",
    "            pts = columns[5].text.strip()\n",
    "            print(f\"Position: {position}\\\n",
    "                    \\nDriver Name: {driver_name}\\\n",
    "                    \\nNationality: {nationality}\\\n",
    "                    \\nCar: {car}\\\n",
    "                    \\nPoints: {pts}\\n\\n\")"
   ]
  }
 ],
 "metadata": {
  "language_info": {
   "name": "python"
  },
  "orig_nbformat": 4
 },
 "nbformat": 4,
 "nbformat_minor": 2
}
